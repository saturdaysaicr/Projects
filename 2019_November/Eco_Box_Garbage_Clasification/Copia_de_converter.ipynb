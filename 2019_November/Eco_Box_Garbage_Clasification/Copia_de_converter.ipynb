{
  "nbformat": 4,
  "nbformat_minor": 0,
  "metadata": {
    "colab": {
      "name": "Copia de converter",
      "provenance": []
    },
    "kernelspec": {
      "name": "python3",
      "display_name": "Python 3"
    }
  },
  "cells": [
    {
      "cell_type": "code",
      "metadata": {
        "id": "K5c8fWkvydki",
        "colab_type": "code",
        "outputId": "f69abc0c-dc57-491a-a471-913e71564698",
        "colab": {
          "base_uri": "https://localhost:8080/",
          "height": 222
        }
      },
      "source": [
        "!pip install mmdnn\n",
        "!pip install numpy==1.16.1\n"
      ],
      "execution_count": 0,
      "outputs": [
        {
          "output_type": "stream",
          "text": [
            "Collecting mmdnn\n",
            "\u001b[?25l  Downloading https://files.pythonhosted.org/packages/a5/20/1fb6420b806c546392c045f98ff3d0ede51011db2b56f9552a18a1b31506/mmdnn-0.2.5-py2.py3-none-any.whl (317kB)\n",
            "\r\u001b[K     |█                               | 10kB 17.3MB/s eta 0:00:01\r\u001b[K     |██                              | 20kB 1.8MB/s eta 0:00:01\r\u001b[K     |███                             | 30kB 2.6MB/s eta 0:00:01\r\u001b[K     |████▏                           | 40kB 1.7MB/s eta 0:00:01\r\u001b[K     |█████▏                          | 51kB 2.1MB/s eta 0:00:01\r\u001b[K     |██████▏                         | 61kB 2.5MB/s eta 0:00:01\r\u001b[K     |███████▎                        | 71kB 2.9MB/s eta 0:00:01\r\u001b[K     |████████▎                       | 81kB 3.3MB/s eta 0:00:01\r\u001b[K     |█████████▎                      | 92kB 3.7MB/s eta 0:00:01\r\u001b[K     |██████████▎                     | 102kB 2.8MB/s eta 0:00:01\r\u001b[K     |███████████▍                    | 112kB 2.8MB/s eta 0:00:01\r\u001b[K     |████████████▍                   | 122kB 2.8MB/s eta 0:00:01\r\u001b[K     |█████████████▍                  | 133kB 2.8MB/s eta 0:00:01\r\u001b[K     |██████████████▌                 | 143kB 2.8MB/s eta 0:00:01\r\u001b[K     |███████████████▌                | 153kB 2.8MB/s eta 0:00:01\r\u001b[K     |████████████████▌               | 163kB 2.8MB/s eta 0:00:01\r\u001b[K     |█████████████████▌              | 174kB 2.8MB/s eta 0:00:01\r\u001b[K     |██████████████████▋             | 184kB 2.8MB/s eta 0:00:01\r\u001b[K     |███████████████████▋            | 194kB 2.8MB/s eta 0:00:01\r\u001b[K     |████████████████████▋           | 204kB 2.8MB/s eta 0:00:01\r\u001b[K     |█████████████████████▊          | 215kB 2.8MB/s eta 0:00:01\r\u001b[K     |██████████████████████▊         | 225kB 2.8MB/s eta 0:00:01\r\u001b[K     |███████████████████████▊        | 235kB 2.8MB/s eta 0:00:01\r\u001b[K     |████████████████████████▉       | 245kB 2.8MB/s eta 0:00:01\r\u001b[K     |█████████████████████████▉      | 256kB 2.8MB/s eta 0:00:01\r\u001b[K     |██████████████████████████▉     | 266kB 2.8MB/s eta 0:00:01\r\u001b[K     |███████████████████████████▉    | 276kB 2.8MB/s eta 0:00:01\r\u001b[K     |█████████████████████████████   | 286kB 2.8MB/s eta 0:00:01\r\u001b[K     |██████████████████████████████  | 296kB 2.8MB/s eta 0:00:01\r\u001b[K     |███████████████████████████████ | 307kB 2.8MB/s eta 0:00:01\r\u001b[K     |████████████████████████████████| 317kB 2.8MB/s \n",
            "\u001b[?25hRequirement already satisfied: numpy>=1.15.0 in /usr/local/lib/python3.6/dist-packages (from mmdnn) (1.17.3)\n",
            "Requirement already satisfied: pillow>=3.1.0 in /usr/local/lib/python3.6/dist-packages (from mmdnn) (4.3.0)\n",
            "Requirement already satisfied: six>=1.10.0 in /usr/local/lib/python3.6/dist-packages (from mmdnn) (1.12.0)\n",
            "Requirement already satisfied: protobuf>=3.6.0 in /usr/local/lib/python3.6/dist-packages (from mmdnn) (3.10.0)\n",
            "Requirement already satisfied: olefile in /usr/local/lib/python3.6/dist-packages (from pillow>=3.1.0->mmdnn) (0.46)\n",
            "Requirement already satisfied: setuptools in /usr/local/lib/python3.6/dist-packages (from protobuf>=3.6.0->mmdnn) (41.4.0)\n",
            "Installing collected packages: mmdnn\n",
            "Successfully installed mmdnn-0.2.5\n"
          ],
          "name": "stdout"
        }
      ]
    },
    {
      "cell_type": "markdown",
      "metadata": {
        "id": "ZOhFiIchPM01",
        "colab_type": "text"
      },
      "source": [
        "Para convertir desde CoreML ( que es el formato que se usa en TuriCreate) se debe primero convertir a un formato intermedio llamado IR"
      ]
    },
    {
      "cell_type": "code",
      "metadata": {
        "id": "TojMNOuv0_oh",
        "colab_type": "code",
        "outputId": "57e24172-b548-474e-99dd-e9532c856d72",
        "colab": {
          "base_uri": "https://localhost:8080/",
          "height": 101
        }
      },
      "source": [
        "!mmtoir -n /content/Basura.mlmodel -f coreml -d /content/model"
      ],
      "execution_count": 0,
      "outputs": [
        {
          "output_type": "stream",
          "text": [
            "WARNING:root:TensorFlow version 1.15.0 detected. Last version known to be fully compatible is 1.14.0 .\n",
            "WARNING:root:Keras version 2.2.5 detected. Last version known to be fully compatible of Keras is 2.2.4 .\n",
            "IR network structure is saved as [/content/model.json].\n",
            "IR network structure is saved as [/content/model.pb].\n",
            "IR weights are saved as [/content/model.npy].\n"
          ],
          "name": "stdout"
        }
      ]
    },
    {
      "cell_type": "markdown",
      "metadata": {
        "id": "qPiy_1_7PXqS",
        "colab_type": "text"
      },
      "source": [
        "Luego se convierte a Keras "
      ]
    },
    {
      "cell_type": "code",
      "metadata": {
        "id": "A8eP80GH5Eil",
        "colab_type": "code",
        "outputId": "8226e8b2-cc38-4d32-92af-6491f02757e2",
        "colab": {
          "base_uri": "https://localhost:8080/",
          "height": 67
        }
      },
      "source": [
        "!mmtocode -f keras -n /content/model.pb -w /content/model.npy -d /content/convertido.py"
      ],
      "execution_count": 0,
      "outputs": [
        {
          "output_type": "stream",
          "text": [
            "Using TensorFlow backend.\n",
            "Parse file [/content/model.pb] with binary format successfully.\n",
            "Target network code snippet is saved as [/content/convertido.py].\n"
          ],
          "name": "stdout"
        }
      ]
    },
    {
      "cell_type": "markdown",
      "metadata": {
        "id": "Lrx2-V0uPbCi",
        "colab_type": "text"
      },
      "source": [
        "Finalmente hay que convertir el modelo a Keras y esta es la parte más esotérica, el módulo de mmdnn tiene diferentes modos de conversión, este sirvió bastante bien \n"
      ]
    },
    {
      "cell_type": "code",
      "metadata": {
        "id": "tXU1n6Aq5vrO",
        "colab_type": "code",
        "outputId": "b26a97fa-b599-4047-9155-d5bf41b91aa4",
        "colab": {
          "base_uri": "https://localhost:8080/",
          "height": 457
        }
      },
      "source": [
        "!python3 -m mmdnn.conversion.examples.keras.imagenet_test -n convertido.py -w model.npy --dump final_keras.h5"
      ],
      "execution_count": 0,
      "outputs": [
        {
          "output_type": "stream",
          "text": [
            "Using TensorFlow backend.\n",
            "WARNING:tensorflow:From /usr/local/lib/python3.6/dist-packages/keras/backend/tensorflow_backend.py:541: The name tf.placeholder is deprecated. Please use tf.compat.v1.placeholder instead.\n",
            "\n",
            "WARNING:tensorflow:From /usr/local/lib/python3.6/dist-packages/keras/backend/tensorflow_backend.py:4432: The name tf.random_uniform is deprecated. Please use tf.random.uniform instead.\n",
            "\n",
            "WARNING:tensorflow:From /usr/local/lib/python3.6/dist-packages/keras/backend/tensorflow_backend.py:4267: The name tf.nn.max_pool is deprecated. Please use tf.nn.max_pool2d instead.\n",
            "\n",
            "WARNING:tensorflow:From /usr/local/lib/python3.6/dist-packages/keras/backend/tensorflow_backend.py:66: The name tf.get_default_graph is deprecated. Please use tf.compat.v1.get_default_graph instead.\n",
            "\n",
            "WARNING:tensorflow:From /usr/local/lib/python3.6/dist-packages/keras/backend/tensorflow_backend.py:190: The name tf.get_default_session is deprecated. Please use tf.compat.v1.get_default_session instead.\n",
            "\n",
            "WARNING:tensorflow:From /usr/local/lib/python3.6/dist-packages/keras/backend/tensorflow_backend.py:197: The name tf.ConfigProto is deprecated. Please use tf.compat.v1.ConfigProto instead.\n",
            "\n",
            "WARNING:tensorflow:From /usr/local/lib/python3.6/dist-packages/keras/backend/tensorflow_backend.py:203: The name tf.Session is deprecated. Please use tf.compat.v1.Session instead.\n",
            "\n",
            "2019-11-02 21:10:33.935426: I tensorflow/core/platform/profile_utils/cpu_utils.cc:94] CPU Frequency: 2299995000 Hz\n",
            "2019-11-02 21:10:33.935758: I tensorflow/compiler/xla/service/service.cc:168] XLA service 0x23a5800 initialized for platform Host (this does not guarantee that XLA will be used). Devices:\n",
            "2019-11-02 21:10:33.935795: I tensorflow/compiler/xla/service/service.cc:176]   StreamExecutor device (0): Host, Default Version\n",
            "WARNING:tensorflow:From /usr/local/lib/python3.6/dist-packages/keras/backend/tensorflow_backend.py:207: The name tf.global_variables is deprecated. Please use tf.compat.v1.global_variables instead.\n",
            "\n",
            "WARNING:tensorflow:From /usr/local/lib/python3.6/dist-packages/keras/backend/tensorflow_backend.py:216: The name tf.is_variable_initialized is deprecated. Please use tf.compat.v1.is_variable_initialized instead.\n",
            "\n",
            "WARNING:tensorflow:From /usr/local/lib/python3.6/dist-packages/keras/backend/tensorflow_backend.py:223: The name tf.variables_initializer is deprecated. Please use tf.compat.v1.variables_initializer instead.\n",
            "\n",
            "Keras model file is saved as [final_keras.h5], generated by [convertido.py.py] and [model.npy].\n"
          ],
          "name": "stdout"
        }
      ]
    },
    {
      "cell_type": "code",
      "metadata": {
        "id": "Dpw3K1UA7fEE",
        "colab_type": "code",
        "colab": {}
      },
      "source": [
        ""
      ],
      "execution_count": 0,
      "outputs": []
    }
  ]
}